{
  "nbformat": 4,
  "nbformat_minor": 0,
  "metadata": {
    "colab": {
      "name": "Inference Notebook.ipynb",
      "provenance": [],
      "authorship_tag": "ABX9TyOY5hD2zZG4kIc5Ii3KSgNU",
      "include_colab_link": true
    },
    "kernelspec": {
      "name": "python3",
      "display_name": "Python 3"
    },
    "language_info": {
      "name": "python"
    },
    "accelerator": "GPU",
    "widgets": {
      "application/vnd.jupyter.widget-state+json": {
        "32b11d2c3bfa401f8a5f39908f6d6472": {
          "model_module": "@jupyter-widgets/controls",
          "model_name": "HBoxModel",
          "model_module_version": "1.5.0",
          "state": {
            "_dom_classes": [],
            "_model_module": "@jupyter-widgets/controls",
            "_model_module_version": "1.5.0",
            "_model_name": "HBoxModel",
            "_view_count": null,
            "_view_module": "@jupyter-widgets/controls",
            "_view_module_version": "1.5.0",
            "_view_name": "HBoxView",
            "box_style": "",
            "children": [
              "IPY_MODEL_013d84bd0d6b4996b6fb8f11e6d20087",
              "IPY_MODEL_2f9ce6e2e13f4f3ba0a30258e6fc397a",
              "IPY_MODEL_43ce10b6e16043b7a616b7ec831e5cd1"
            ],
            "layout": "IPY_MODEL_9558f074cf024f35b60d7b2ab3e2d45f"
          }
        },
        "013d84bd0d6b4996b6fb8f11e6d20087": {
          "model_module": "@jupyter-widgets/controls",
          "model_name": "HTMLModel",
          "model_module_version": "1.5.0",
          "state": {
            "_dom_classes": [],
            "_model_module": "@jupyter-widgets/controls",
            "_model_module_version": "1.5.0",
            "_model_name": "HTMLModel",
            "_view_count": null,
            "_view_module": "@jupyter-widgets/controls",
            "_view_module_version": "1.5.0",
            "_view_name": "HTMLView",
            "description": "",
            "description_tooltip": null,
            "layout": "IPY_MODEL_88014e4cb36844e698e453e5b0082f9c",
            "placeholder": "​",
            "style": "IPY_MODEL_8639dab50afe438eb3e8f707ad3cdd1f",
            "value": "100%"
          }
        },
        "2f9ce6e2e13f4f3ba0a30258e6fc397a": {
          "model_module": "@jupyter-widgets/controls",
          "model_name": "FloatProgressModel",
          "model_module_version": "1.5.0",
          "state": {
            "_dom_classes": [],
            "_model_module": "@jupyter-widgets/controls",
            "_model_module_version": "1.5.0",
            "_model_name": "FloatProgressModel",
            "_view_count": null,
            "_view_module": "@jupyter-widgets/controls",
            "_view_module_version": "1.5.0",
            "_view_name": "ProgressView",
            "bar_style": "success",
            "description": "",
            "description_tooltip": null,
            "layout": "IPY_MODEL_541fb1edd0314f3c9d2b72d5a5c6befa",
            "max": 102530333,
            "min": 0,
            "orientation": "horizontal",
            "style": "IPY_MODEL_5044c49772fa40768822a7593f0ce0b9",
            "value": 102530333
          }
        },
        "43ce10b6e16043b7a616b7ec831e5cd1": {
          "model_module": "@jupyter-widgets/controls",
          "model_name": "HTMLModel",
          "model_module_version": "1.5.0",
          "state": {
            "_dom_classes": [],
            "_model_module": "@jupyter-widgets/controls",
            "_model_module_version": "1.5.0",
            "_model_name": "HTMLModel",
            "_view_count": null,
            "_view_module": "@jupyter-widgets/controls",
            "_view_module_version": "1.5.0",
            "_view_name": "HTMLView",
            "description": "",
            "description_tooltip": null,
            "layout": "IPY_MODEL_443eba7364524bc4adf97aeb37f2961d",
            "placeholder": "​",
            "style": "IPY_MODEL_e97a860a2c75493ab9bd67bcf13647e2",
            "value": " 97.8M/97.8M [00:00&lt;00:00, 143MB/s]"
          }
        },
        "9558f074cf024f35b60d7b2ab3e2d45f": {
          "model_module": "@jupyter-widgets/base",
          "model_name": "LayoutModel",
          "model_module_version": "1.2.0",
          "state": {
            "_model_module": "@jupyter-widgets/base",
            "_model_module_version": "1.2.0",
            "_model_name": "LayoutModel",
            "_view_count": null,
            "_view_module": "@jupyter-widgets/base",
            "_view_module_version": "1.2.0",
            "_view_name": "LayoutView",
            "align_content": null,
            "align_items": null,
            "align_self": null,
            "border": null,
            "bottom": null,
            "display": null,
            "flex": null,
            "flex_flow": null,
            "grid_area": null,
            "grid_auto_columns": null,
            "grid_auto_flow": null,
            "grid_auto_rows": null,
            "grid_column": null,
            "grid_gap": null,
            "grid_row": null,
            "grid_template_areas": null,
            "grid_template_columns": null,
            "grid_template_rows": null,
            "height": null,
            "justify_content": null,
            "justify_items": null,
            "left": null,
            "margin": null,
            "max_height": null,
            "max_width": null,
            "min_height": null,
            "min_width": null,
            "object_fit": null,
            "object_position": null,
            "order": null,
            "overflow": null,
            "overflow_x": null,
            "overflow_y": null,
            "padding": null,
            "right": null,
            "top": null,
            "visibility": null,
            "width": null
          }
        },
        "88014e4cb36844e698e453e5b0082f9c": {
          "model_module": "@jupyter-widgets/base",
          "model_name": "LayoutModel",
          "model_module_version": "1.2.0",
          "state": {
            "_model_module": "@jupyter-widgets/base",
            "_model_module_version": "1.2.0",
            "_model_name": "LayoutModel",
            "_view_count": null,
            "_view_module": "@jupyter-widgets/base",
            "_view_module_version": "1.2.0",
            "_view_name": "LayoutView",
            "align_content": null,
            "align_items": null,
            "align_self": null,
            "border": null,
            "bottom": null,
            "display": null,
            "flex": null,
            "flex_flow": null,
            "grid_area": null,
            "grid_auto_columns": null,
            "grid_auto_flow": null,
            "grid_auto_rows": null,
            "grid_column": null,
            "grid_gap": null,
            "grid_row": null,
            "grid_template_areas": null,
            "grid_template_columns": null,
            "grid_template_rows": null,
            "height": null,
            "justify_content": null,
            "justify_items": null,
            "left": null,
            "margin": null,
            "max_height": null,
            "max_width": null,
            "min_height": null,
            "min_width": null,
            "object_fit": null,
            "object_position": null,
            "order": null,
            "overflow": null,
            "overflow_x": null,
            "overflow_y": null,
            "padding": null,
            "right": null,
            "top": null,
            "visibility": null,
            "width": null
          }
        },
        "8639dab50afe438eb3e8f707ad3cdd1f": {
          "model_module": "@jupyter-widgets/controls",
          "model_name": "DescriptionStyleModel",
          "model_module_version": "1.5.0",
          "state": {
            "_model_module": "@jupyter-widgets/controls",
            "_model_module_version": "1.5.0",
            "_model_name": "DescriptionStyleModel",
            "_view_count": null,
            "_view_module": "@jupyter-widgets/base",
            "_view_module_version": "1.2.0",
            "_view_name": "StyleView",
            "description_width": ""
          }
        },
        "541fb1edd0314f3c9d2b72d5a5c6befa": {
          "model_module": "@jupyter-widgets/base",
          "model_name": "LayoutModel",
          "model_module_version": "1.2.0",
          "state": {
            "_model_module": "@jupyter-widgets/base",
            "_model_module_version": "1.2.0",
            "_model_name": "LayoutModel",
            "_view_count": null,
            "_view_module": "@jupyter-widgets/base",
            "_view_module_version": "1.2.0",
            "_view_name": "LayoutView",
            "align_content": null,
            "align_items": null,
            "align_self": null,
            "border": null,
            "bottom": null,
            "display": null,
            "flex": null,
            "flex_flow": null,
            "grid_area": null,
            "grid_auto_columns": null,
            "grid_auto_flow": null,
            "grid_auto_rows": null,
            "grid_column": null,
            "grid_gap": null,
            "grid_row": null,
            "grid_template_areas": null,
            "grid_template_columns": null,
            "grid_template_rows": null,
            "height": null,
            "justify_content": null,
            "justify_items": null,
            "left": null,
            "margin": null,
            "max_height": null,
            "max_width": null,
            "min_height": null,
            "min_width": null,
            "object_fit": null,
            "object_position": null,
            "order": null,
            "overflow": null,
            "overflow_x": null,
            "overflow_y": null,
            "padding": null,
            "right": null,
            "top": null,
            "visibility": null,
            "width": null
          }
        },
        "5044c49772fa40768822a7593f0ce0b9": {
          "model_module": "@jupyter-widgets/controls",
          "model_name": "ProgressStyleModel",
          "model_module_version": "1.5.0",
          "state": {
            "_model_module": "@jupyter-widgets/controls",
            "_model_module_version": "1.5.0",
            "_model_name": "ProgressStyleModel",
            "_view_count": null,
            "_view_module": "@jupyter-widgets/base",
            "_view_module_version": "1.2.0",
            "_view_name": "StyleView",
            "bar_color": null,
            "description_width": ""
          }
        },
        "443eba7364524bc4adf97aeb37f2961d": {
          "model_module": "@jupyter-widgets/base",
          "model_name": "LayoutModel",
          "model_module_version": "1.2.0",
          "state": {
            "_model_module": "@jupyter-widgets/base",
            "_model_module_version": "1.2.0",
            "_model_name": "LayoutModel",
            "_view_count": null,
            "_view_module": "@jupyter-widgets/base",
            "_view_module_version": "1.2.0",
            "_view_name": "LayoutView",
            "align_content": null,
            "align_items": null,
            "align_self": null,
            "border": null,
            "bottom": null,
            "display": null,
            "flex": null,
            "flex_flow": null,
            "grid_area": null,
            "grid_auto_columns": null,
            "grid_auto_flow": null,
            "grid_auto_rows": null,
            "grid_column": null,
            "grid_gap": null,
            "grid_row": null,
            "grid_template_areas": null,
            "grid_template_columns": null,
            "grid_template_rows": null,
            "height": null,
            "justify_content": null,
            "justify_items": null,
            "left": null,
            "margin": null,
            "max_height": null,
            "max_width": null,
            "min_height": null,
            "min_width": null,
            "object_fit": null,
            "object_position": null,
            "order": null,
            "overflow": null,
            "overflow_x": null,
            "overflow_y": null,
            "padding": null,
            "right": null,
            "top": null,
            "visibility": null,
            "width": null
          }
        },
        "e97a860a2c75493ab9bd67bcf13647e2": {
          "model_module": "@jupyter-widgets/controls",
          "model_name": "DescriptionStyleModel",
          "model_module_version": "1.5.0",
          "state": {
            "_model_module": "@jupyter-widgets/controls",
            "_model_module_version": "1.5.0",
            "_model_name": "DescriptionStyleModel",
            "_view_count": null,
            "_view_module": "@jupyter-widgets/base",
            "_view_module_version": "1.2.0",
            "_view_name": "StyleView",
            "description_width": ""
          }
        }
      }
    }
  },
  "cells": [
    {
      "cell_type": "markdown",
      "metadata": {
        "id": "view-in-github",
        "colab_type": "text"
      },
      "source": [
        "<a href=\"https://colab.research.google.com/github/Depersonalizc/AL-cancer-detection/blob/main/Inference_Notebook.ipynb\" target=\"_parent\"><img src=\"https://colab.research.google.com/assets/colab-badge.svg\" alt=\"Open In Colab\"/></a>"
      ]
    },
    {
      "cell_type": "markdown",
      "source": [
        "# CSC4080 Midterm Project - Inference Notebook\n",
        "## 📝Active Learning for Label-Efficient Histopathologic Cancer Detection\n",
        "\n",
        "\n",
        "*Group 24* \n",
        "\n",
        "- 🐷 CHEN Ang   (118010009)\n",
        "\n",
        "- 🐸 FU Quanzhi (118010070)"
      ],
      "metadata": {
        "id": "Nun3OzW3wvJh"
      }
    },
    {
      "cell_type": "markdown",
      "source": [
        "## Prepare Data & Model"
      ],
      "metadata": {
        "id": "6LAJa74Ew_Xw"
      }
    },
    {
      "cell_type": "code",
      "source": [
        "# prepare data\n",
        "!pip install -q --upgrade --no-cache-dir gdown\n",
        "!gdown https://drive.google.com/uc?id=1gAMjcaut2C3cbWoke8R4vWFQkfoCQX_x\n",
        "!unzip -q hist_cancer_det.zip -d ./data/\n",
        "# prepare model\n",
        "!gdown https://drive.google.com/uc?id=1wagbqJyF-CwNx86I3AkVSbja0lhAtkcm\n",
        "!unzip -q models.zip -d ./models/\n",
        "print('Done!')"
      ],
      "metadata": {
        "colab": {
          "base_uri": "https://localhost:8080/"
        },
        "id": "OIpbHebowznY",
        "outputId": "7c8d3c88-3051-4686-d2fe-cdabf5b435a7"
      },
      "execution_count": 2,
      "outputs": [
        {
          "output_type": "stream",
          "name": "stdout",
          "text": [
            "  Installing build dependencies ... \u001b[?25l\u001b[?25hdone\n",
            "  Getting requirements to build wheel ... \u001b[?25l\u001b[?25hdone\n",
            "    Preparing wheel metadata ... \u001b[?25l\u001b[?25hdone\n",
            "  Building wheel for gdown (PEP 517) ... \u001b[?25l\u001b[?25hdone\n",
            "Downloading...\n",
            "From: https://drive.google.com/uc?id=1gAMjcaut2C3cbWoke8R4vWFQkfoCQX_x\n",
            "To: /content/hist_cancer_det.zip\n",
            "100% 243M/243M [00:01<00:00, 141MB/s]\n",
            "Downloading...\n",
            "From: https://drive.google.com/uc?id=1wagbqJyF-CwNx86I3AkVSbja0lhAtkcm\n",
            "To: /content/models.zip\n",
            "100% 183M/183M [00:02<00:00, 66.2MB/s]\n",
            "Done!\n"
          ]
        }
      ]
    },
    {
      "cell_type": "code",
      "source": [
        "# @title Import denpendencies\n",
        "\n",
        "%matplotlib inline\n",
        "import pandas as pd\n",
        "import torch\n",
        "import matplotlib.pyplot as plt\n",
        "import cv2\n",
        "import numpy as np"
      ],
      "metadata": {
        "id": "4JVKBt1ty9rB"
      },
      "execution_count": 3,
      "outputs": []
    },
    {
      "cell_type": "code",
      "source": [
        "# @title Data preprocessing & augmentation\n",
        "\n",
        "from torchvision import transforms\n",
        "\n",
        "normalize = transforms.Normalize([0.485, 0.456, 0.406], [0.229, 0.224, 0.225])\n",
        "\n",
        "valid_transforms = transforms.Compose([\n",
        "    transforms.ToPILImage(),\n",
        "    transforms.CenterCrop((49, 49)),\n",
        "    transforms.ToTensor(),\n",
        "    normalize,\n",
        "])\n",
        "\n",
        "def plot_prediction(model, state_dict, id, annotation_file):\n",
        "  label = ['normal', 'cancer']\n",
        "  image = valid_transforms(cv2.imread(f\"./data/images/{df.id[id]}.tif\"))\n",
        "  base_model.load_state_dict(torch.load(f'./models/{state_dict}.pth'))\n",
        "  base_model.eval()\n",
        "  logits = base_model(image.reshape((1,3,49,49)))\n",
        "  _,predict = torch.max(logits,1)\n",
        "  plt.figure(figsize=(8,6))\n",
        "  plt.imshow(cv2.cvtColor(cv2.imread(f\"./data/images/{df.id[id]}.tif\"), cv2.COLOR_BGR2RGB))\n",
        "  plt.title(f\"Prediction:{label[predict]}\\n Truth:{label[df.label[id]]}\", fontsize=30)\n",
        "\n"
      ],
      "metadata": {
        "id": "xN3taUNXzCLg"
      },
      "execution_count": 43,
      "outputs": []
    },
    {
      "cell_type": "code",
      "source": [
        "# @title ResNet50 w/ a binary classification head\n",
        "\n",
        "from torch import nn\n",
        "from torchvision import models\n",
        "device = torch.device('cuda:0' if torch.cuda.is_available() else 'cpu')\n",
        "print(f'Using device {device}')\n",
        "resnet = models.resnet50(pretrained=True)\n",
        "\n",
        "in_features = resnet.fc.in_features\n",
        "num_hidden = 512\n",
        "\n",
        "head = nn.Sequential(\n",
        "    nn.AdaptiveAvgPool2d(1),\n",
        "    nn.Flatten(),\n",
        "    nn.BatchNorm1d(in_features),\n",
        "    nn.Dropout(0.5),\n",
        "    nn.Linear(in_features=in_features, out_features=num_hidden),\n",
        "    nn.ReLU(),\n",
        "    nn.BatchNorm1d(num_hidden),\n",
        "    nn.Dropout(0.5),\n",
        "    nn.Linear(in_features=num_hidden, out_features=2),\n",
        ")\n",
        "\n",
        "base_model = nn.Sequential(\n",
        "    nn.Sequential(*list(resnet.children())[:-2]),\n",
        "    head\n",
        ")"
      ],
      "metadata": {
        "colab": {
          "base_uri": "https://localhost:8080/",
          "height": 84,
          "referenced_widgets": [
            "32b11d2c3bfa401f8a5f39908f6d6472",
            "013d84bd0d6b4996b6fb8f11e6d20087",
            "2f9ce6e2e13f4f3ba0a30258e6fc397a",
            "43ce10b6e16043b7a616b7ec831e5cd1",
            "9558f074cf024f35b60d7b2ab3e2d45f",
            "88014e4cb36844e698e453e5b0082f9c",
            "8639dab50afe438eb3e8f707ad3cdd1f",
            "541fb1edd0314f3c9d2b72d5a5c6befa",
            "5044c49772fa40768822a7593f0ce0b9",
            "443eba7364524bc4adf97aeb37f2961d",
            "e97a860a2c75493ab9bd67bcf13647e2"
          ]
        },
        "id": "qrMqumRSzHH4",
        "outputId": "ea4a0b81-46b0-40c8-c700-01c35509257a"
      },
      "execution_count": 5,
      "outputs": [
        {
          "output_type": "stream",
          "name": "stdout",
          "text": [
            "Using device cuda:0\n"
          ]
        },
        {
          "output_type": "stream",
          "name": "stderr",
          "text": [
            "Downloading: \"https://download.pytorch.org/models/resnet50-0676ba61.pth\" to /root/.cache/torch/hub/checkpoints/resnet50-0676ba61.pth\n"
          ]
        },
        {
          "output_type": "display_data",
          "data": {
            "text/plain": [
              "  0%|          | 0.00/97.8M [00:00<?, ?B/s]"
            ],
            "application/vnd.jupyter.widget-view+json": {
              "version_major": 2,
              "version_minor": 0,
              "model_id": "32b11d2c3bfa401f8a5f39908f6d6472"
            }
          },
          "metadata": {}
        }
      ]
    },
    {
      "cell_type": "code",
      "source": [
        "# @title Make Prediction\n",
        "df = pd.read_csv(\"./data/labels.csv\")\n",
        "# @markdown Select images in the dataset [number between 0 and 9999]\n",
        "id =  230 #@param {type: \"number\"}\n",
        "image = valid_transforms(cv2.imread(f\"./data/images/{df.id[id]}.tif\"))\n",
        "# @markdown Select pre-trained model.\n",
        "model = 'topconf' # @param ['topconf', 'mcdropout']\n",
        "plot_prediction(base_model, model, id, df)"
      ],
      "metadata": {
        "colab": {
          "base_uri": "https://localhost:8080/",
          "height": 437
        },
        "id": "6YHkqfvA6P3Q",
        "outputId": "7e4774c3-8c09-4479-88d4-99f90902d1b3"
      },
      "execution_count": 46,
      "outputs": [
        {
          "output_type": "display_data",
          "data": {
            "text/plain": [
              "<Figure size 576x432 with 1 Axes>"
            ],
            "image/png": "[encoded data removed]"
          },
          "metadata": {
            "needs_background": "light"
          }
        }
      ]
    }
  ]
}