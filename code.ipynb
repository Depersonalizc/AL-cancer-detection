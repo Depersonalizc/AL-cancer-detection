{
  "nbformat": 4,
  "nbformat_minor": 0,
  "metadata": {
    "colab": {
      "name": "CSC4080-midterm-proj-group24.ipynb ",
      "provenance": [],
      "include_colab_link": true
    },
    "kernelspec": {
      "name": "python3",
      "display_name": "Python 3"
    },
    "language_info": {
      "name": "python"
    }
  },
  "cells": [
    {
      "cell_type": "markdown",
      "metadata": {
        "id": "view-in-github",
        "colab_type": "text"
      },
      "source": [
        "<a href=\"https://colab.research.google.com/github/Depersonalizc/AL-cancer-detection/blob/main/code.ipynb\" target=\"_parent\"><img src=\"https://colab.research.google.com/assets/colab-badge.svg\" alt=\"Open In Colab\"/></a>"
      ]
    },
    {
      "cell_type": "markdown",
      "source": [
        "# CSC4080 Midterm Project\n",
        "## 📝Active Learning for Label-Efficient Histopathologic Cancer Detection\n",
        "\n",
        "\n",
        "*Group 24* \n",
        "\n",
        "- 🐷 CHEN Ang   (118010009)\n",
        "\n",
        "- 🐸 FU Quanzhi (118010070)\n",
        "\n",
        "\n",
        "\n",
        "\n",
        "\n",
        "\n"
      ],
      "metadata": {
        "id": "bcSTSZi8FUw4"
      }
    },
    {
      "cell_type": "code",
      "execution_count": null,
      "metadata": {
        "id": "WM5dOXCBFM4s",
        "outputId": "dbba0804-aec2-4066-cf1f-ef2fe0bb5655",
        "colab": {
          "base_uri": "https://localhost:8080/"
        }
      },
      "outputs": [
        {
          "output_type": "stream",
          "name": "stdout",
          "text": [
            "hello world\n"
          ]
        }
      ],
      "source": [
        "print(\"fuck world\")"
      ]
    },
    {
      "cell_type": "code",
      "source": [
        "print('ca says hello world')"
      ],
      "metadata": {
        "colab": {
          "base_uri": "https://localhost:8080/"
        },
        "id": "wqXPZc2cRuHX",
        "outputId": "f1891128-af90-4949-b0d5-3d5e45912039"
      },
      "execution_count": 1,
      "outputs": [
        {
          "output_type": "stream",
          "name": "stdout",
          "text": [
            "ca says hello world\n"
          ]
        }
      ]
    },
    {
      "cell_type": "code",
      "source": [
        ""
      ],
      "metadata": {
        "id": "uOuo2GmZRv_z"
      },
      "execution_count": null,
      "outputs": []
    }
  ]
}